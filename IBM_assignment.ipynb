{
 "cells": [
  {
   "cell_type": "markdown",
   "id": "0fe52e72-19a9-49ad-9053-094d31cf0f44",
   "metadata": {},
   "source": [
    "# Data Science Tools and Ecosystem\n",
    "\n"
   ]
  },
  {
   "cell_type": "markdown",
   "id": "5da52dc6-ab8b-489c-8b2d-8d3067504d0f",
   "metadata": {},
   "source": [
    "In this notebook, Data Science Tools and Ecosystem are summarized.\n"
   ]
  },
  {
   "cell_type": "markdown",
   "id": "7b8e5421-42b5-42d3-b3cd-110e47d99da9",
   "metadata": {},
   "source": [
    "Some of the popular languages that Data Scientists use are:\n",
    "1. Python.\n",
    "2. R.\n",
    "3. SQL.\n",
    "4. C++.\n",
    "5. Java."
   ]
  },
  {
   "cell_type": "markdown",
   "id": "ddc1a898-0885-44c8-b6f4-2d13ad243286",
   "metadata": {},
   "source": [
    "Some of the commonly used libraries used by Data Scientists include:\n",
    "\n",
    "1. TensorFlow\n",
    "2. SciPy\n",
    "3. NumPy\n",
    "4. PyTorch\n"
   ]
  },
  {
   "cell_type": "markdown",
   "id": "98f6bad5-e520-47b1-a575-06d7e54adf61",
   "metadata": {},
   "source": [
    "| Data Science Tools|\n",
    "|-------------------|\n",
    "|MongoDB|\n",
    "|Apache SparkSQL|\n",
    "|TensorFlow|\n",
    "|SAS|"
   ]
  },
  {
   "cell_type": "markdown",
   "id": "378115fc-31eb-41b2-be59-f4eef7c71f06",
   "metadata": {},
   "source": [
    "### Below are a few examples of evaluating arithmetic expressions in Python "
   ]
  },
  {
   "cell_type": "code",
   "execution_count": 4,
   "id": "5e8510a6-7f99-4ed9-928b-dcd9ae67a74f",
   "metadata": {},
   "outputs": [
    {
     "data": {
      "text/plain": [
       "17"
      ]
     },
     "execution_count": 4,
     "metadata": {},
     "output_type": "execute_result"
    }
   ],
   "source": [
    "#This a simple arithmetic expression to mutiply then add integers\n",
    "(3*4)+5"
   ]
  },
  {
   "cell_type": "code",
   "execution_count": 5,
   "id": "a70d3c7d-2d28-4ac7-b886-1598a906f73c",
   "metadata": {},
   "outputs": [
    {
     "data": {
      "text/plain": [
       "3.3333333333333335"
      ]
     },
     "execution_count": 5,
     "metadata": {},
     "output_type": "execute_result"
    }
   ],
   "source": [
    "# This will convert 200 minutes to hours by diving by 60\n",
    "(200/60)"
   ]
  },
  {
   "cell_type": "markdown",
   "id": "0015b1a0-0b17-4925-a007-89dc65f7ffe2",
   "metadata": {},
   "source": [
    "__Objectives:__\n",
    "* Create ordered lists in jupiter about popular languages and libraries for Data Science\n",
    "* Create tables in jupyter about Data Science Tools\n",
    "* Create relevant headings in jupyter\n",
    "* Create unordered lists in jupyter about the objectives of the class\n",
    "* and many many other things about jupyter\n",
    "  "
   ]
  },
  {
   "cell_type": "markdown",
   "id": "c796eb7e-6c58-4c12-a13c-e7488af16e5f",
   "metadata": {},
   "source": [
    "## Author\n",
    "Efstathios Sigourtzidis"
   ]
  }
 ],
 "metadata": {
  "kernelspec": {
   "display_name": "Python 3 (ipykernel)",
   "language": "python",
   "name": "python3"
  },
  "language_info": {
   "codemirror_mode": {
    "name": "ipython",
    "version": 3
   },
   "file_extension": ".py",
   "mimetype": "text/x-python",
   "name": "python",
   "nbconvert_exporter": "python",
   "pygments_lexer": "ipython3",
   "version": "3.12.0"
  }
 },
 "nbformat": 4,
 "nbformat_minor": 5
}
